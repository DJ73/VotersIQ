{
 "cells": [
  {
   "cell_type": "code",
   "execution_count": 108,
   "metadata": {},
   "outputs": [
    {
     "name": "stderr",
     "output_type": "stream",
     "text": [
      "[nltk_data] Downloading package stopwords to\n",
      "[nltk_data]     C:\\Users\\JKC\\AppData\\Roaming\\nltk_data...\n",
      "[nltk_data]   Package stopwords is already up-to-date!\n"
     ]
    }
   ],
   "source": [
    "import numpy as np\n",
    "import pandas as pd\n",
    "from sklearn.model_selection import train_test_split\n",
    "from sklearn.naive_bayes import MultinomialNB, GaussianNB\n",
    "from sklearn.feature_extraction.text import CountVectorizer, TfidfVectorizer\n",
    "from nltk.corpus import stopwords\n",
    "from sklearn import model_selection\n",
    "import nltk \n",
    "import matplotlib.pyplot as plt\n",
    "nltk.download('stopwords')\n",
    "\n",
    "import string\n",
    "punc=string.punctuation\n",
    "stop=stopwords.words(\"english\")\n",
    "stop+=punc\n",
    "\n",
    "train_data=pd.read_csv(\"C:/Users/JKC/political_leaders_final.csv\", encoding = \"ISO-8859-1\", engine= 'python')\n",
    "x=train_data.iloc[:,3]\n",
    "y=train_data.iloc[:,5]\n",
    "x=x.fillna(\"\")\n",
    "y=y.fillna(\"\")\n",
    "\n",
    "x_train,x_test,y_train,y_test=train_test_split(x,y,test_size = 0.4)\n",
    "#x_train, x_test, y_train, y_test = model_selection.train_test_split(x, y,test_size=0.4)\n",
    "test_data=pd.read_csv(\"C:/Users/JKC/political_leaders_perPolitician.csv\", encoding = \"ISO-8859-1\", engine= 'python')\n",
    "\n",
    "#x=train_data.iloc[:,3]\n",
    "#y=train_data.iloc[:,4]\n",
    "test_a=test_data.iloc[164:198,3]\n",
    "#test_n=test_data.iloc[805:1018,3]\n",
    "#test_r=test_data.iloc[1019:1052,3]\n",
    "#test=x_test\n",
    "#test_a=test_a.fillna(\"\")\n",
    "#test_r=test_r.fillna(\"\")\n",
    "test_n=test_n.fillna(\"\")\n",
    "#test = [test_a,test_n,test_r]\n"
   ]
  },
  {
   "cell_type": "code",
   "execution_count": null,
   "metadata": {},
   "outputs": [],
   "source": []
  },
  {
   "cell_type": "code",
   "execution_count": null,
   "metadata": {},
   "outputs": [],
   "source": []
  },
  {
   "cell_type": "code",
   "execution_count": 109,
   "metadata": {
    "scrolled": true
   },
   "outputs": [
    {
     "name": "stdout",
     "output_type": "stream",
     "text": [
      "0.8783068783068783\n",
      "[0 1 1 0 1 1 0 1 0 0 0 0 1 0 1 0 0 0 1 1 1 0 0 0 0 0 0 0 0 0 0 1 1 0 1 0 0\n",
      " 1 0 0 0 0 0 0 0 0 1 0 1 0 0 0 0 0 1 0 0 1 0 1 0 0 0 0 0 0 0 0 1 1 0 0 0 1\n",
      " 0 0 1 1 1 0 1 0 1 0 0 0 0 0 0 1 0 0 0 0 0 1 0 0 0 1 0 1 0 1 0 0 1 0 1 1 0\n",
      " 1 1 0 1 0 0 0 0 1 0 1 0 0 0 1 1 1 0 0 0 0 0 0 0 0 0 0 1 1 0 1 0 0 1 0 0 0\n",
      " 0 0 0 0 0 1 0 1 0 0 0 0 0 1 0 0 1 0 1 0 0 0 0 0 0 0 0 1 1 0 0 0 1 0 0 1 1\n",
      " 1 0 1 0 1 0 0 0 0 0 0 1 0 0 0 0 0 1 0 0 0 1 0 1 0 1 0 0]\n"
     ]
    }
   ],
   "source": [
    "x=np.array(x)\n",
    "y=np.array(y)\n",
    "test=np.array(test_n)\n",
    "\n",
    "\n",
    "count_vec=CountVectorizer(max_features=80000,stop_words=stop,lowercase = True)\n",
    "x_train_vec=count_vec.fit_transform(x_train)\n",
    "x_test_vec=count_vec.transform(x_test)\n",
    "test_vec=count_vec.transform(test)\n",
    "\n",
    "clf=MultinomialNB()\n",
    "clf.fit(x_train_vec,y_train)\n",
    "y_pred=clf.predict(test_vec)\n",
    "print(clf.score(x_test_vec,y_test))\n",
    "\n",
    "np.savetxt(\"results.csv\",y_pred,fmt=\"%s\")\n",
    "print (y_pred)"
   ]
  },
  {
   "cell_type": "code",
   "execution_count": 110,
   "metadata": {},
   "outputs": [],
   "source": [
    "def get_prob(y_pred):\n",
    "    count=0\n",
    "    for i in y_pred:\n",
    "        if i==1:\n",
    "            count+=1\n",
    "    den=len(y_pred)\n",
    "    return count,den"
   ]
  },
  {
   "cell_type": "code",
   "execution_count": 111,
   "metadata": {},
   "outputs": [],
   "source": [
    "ans = get_prob(y_pred)\n",
    "ans\n",
    "prop = ans[0]\n",
    "neut = ans[1] - prop"
   ]
  },
  {
   "cell_type": "code",
   "execution_count": 112,
   "metadata": {},
   "outputs": [
    {
     "data": {
      "image/png": "[encoded data removed]",
      "text/plain": [
       "<Figure size 432x288 with 1 Axes>"
      ]
     },
     "metadata": {},
     "output_type": "display_data"
    }
   ],
   "source": [
    "# Data to plot\n",
    "labels = 'Propaganda', 'Neutral'\n",
    "sizes = [prop, neut]\n",
    "colors = ['gold', 'yellowgreen']\n",
    "explode = (0.1, 0)  # explode 1st slice\n",
    " \n",
    "# Plot\n",
    "plt.pie(sizes, explode=explode, labels=labels, colors=colors,\n",
    "autopct='%1.1f%%', shadow=True, startangle=140)\n",
    " \n",
    "plt.axis('equal')\n",
    "plt.show()"
   ]
  },
  {
   "cell_type": "code",
   "execution_count": null,
   "metadata": {},
   "outputs": [],
   "source": []
  }
 ],
 "metadata": {
  "kernelspec": {
   "display_name": "Python 3",
   "language": "python",
   "name": "python3"
  },
  "language_info": {
   "codemirror_mode": {
    "name": "ipython",
    "version": 3
   },
   "file_extension": ".py",
   "mimetype": "text/x-python",
   "name": "python",
   "nbconvert_exporter": "python",
   "pygments_lexer": "ipython3",
   "version": "3.6.5"
  }
 },
 "nbformat": 4,
 "nbformat_minor": 2
}
